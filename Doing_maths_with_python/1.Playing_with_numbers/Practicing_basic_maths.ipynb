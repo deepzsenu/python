{
 "cells": [
  {
   "cell_type": "code",
   "execution_count": 1,
   "metadata": {},
   "outputs": [],
   "source": [
    "from fractions import Fraction\n"
   ]
  },
  {
   "cell_type": "code",
   "execution_count": 3,
   "metadata": {},
   "outputs": [
    {
     "name": "stdout",
     "output_type": "stream",
     "text": [
      "4/5\n"
     ]
    }
   ],
   "source": [
    "f = Fraction(4,5)\n",
    "print(f)"
   ]
  },
  {
   "cell_type": "code",
   "execution_count": 4,
   "metadata": {},
   "outputs": [
    {
     "data": {
      "text/plain": [
       "fractions.Fraction"
      ]
     },
     "execution_count": 4,
     "metadata": {},
     "output_type": "execute_result"
    }
   ],
   "source": [
    "type(f)"
   ]
  },
  {
   "cell_type": "code",
   "execution_count": 5,
   "metadata": {},
   "outputs": [
    {
     "data": {
      "text/plain": [
       "complex"
      ]
     },
     "execution_count": 5,
     "metadata": {},
     "output_type": "execute_result"
    }
   ],
   "source": [
    "# playing with comples number\n",
    "a = 2+3j\n",
    "type(a)"
   ]
  },
  {
   "cell_type": "code",
   "execution_count": 7,
   "metadata": {},
   "outputs": [
    {
     "name": "stdout",
     "output_type": "stream",
     "text": [
      "(8+6j)\n"
     ]
    }
   ],
   "source": [
    "b = 6+3j\n",
    "z = a+b\n",
    "print(z)"
   ]
  },
  {
   "cell_type": "code",
   "execution_count": 8,
   "metadata": {},
   "outputs": [
    {
     "name": "stdout",
     "output_type": "stream",
     "text": [
      "(-4+0j)\n"
     ]
    }
   ],
   "source": [
    "z = a-b\n",
    "print(z)"
   ]
  },
  {
   "cell_type": "code",
   "execution_count": 9,
   "metadata": {},
   "outputs": [
    {
     "name": "stdout",
     "output_type": "stream",
     "text": [
      "(3+24j)\n"
     ]
    }
   ],
   "source": [
    "z = a*b\n",
    "print(z)"
   ]
  },
  {
   "cell_type": "code",
   "execution_count": 10,
   "metadata": {},
   "outputs": [
    {
     "name": "stdout",
     "output_type": "stream",
     "text": [
      "(0.4666666666666667+0.26666666666666666j)\n"
     ]
    }
   ],
   "source": [
    "z = a/b \n",
    "print(z)"
   ]
  },
  {
   "cell_type": "code",
   "execution_count": 11,
   "metadata": {},
   "outputs": [
    {
     "name": "stdout",
     "output_type": "stream",
     "text": [
      "0.53748384988657\n"
     ]
    }
   ],
   "source": [
    "# finding conjugate of complex number\n",
    "x = (z.real**2 + z.imag**2)**0.5\n",
    "print(x)"
   ]
  },
  {
   "cell_type": "markdown",
   "metadata": {},
   "source": [
    "# finding magnitude of complex no\n",
    "\n"
   ]
  },
  {
   "cell_type": "markdown",
   "metadata": {},
   "source": [
    "simpler way to find the magnitude of a complex number is with the\n",
    "abs() function. The abs() function returns the absolute value when called\n",
    "with a real number as its argument. For example, abs(5) and abs(-5) both\n",
    "return 5. However, for complex numbers, it returns the magnitude:\n"
   ]
  },
  {
   "cell_type": "code",
   "execution_count": 14,
   "metadata": {},
   "outputs": [
    {
     "name": "stdout",
     "output_type": "stream",
     "text": [
      "0.53748384988657\n",
      "(0.4666666666666667+0.26666666666666666j)\n"
     ]
    }
   ],
   "source": [
    "n = abs(x)\n",
    "print(n)\n",
    "print(z)"
   ]
  },
  {
   "cell_type": "code",
   "execution_count": 16,
   "metadata": {},
   "outputs": [
    {
     "name": "stdout",
     "output_type": "stream",
     "text": [
      "0.53748384988657\n"
     ]
    }
   ],
   "source": [
    "type(n)\n",
    "m = abs(z)\n",
    "print(m)"
   ]
  },
  {
   "cell_type": "code",
   "execution_count": 17,
   "metadata": {},
   "outputs": [],
   "source": [
    "# hence we get to know that the magnitute of comples no is the absolute value of "
   ]
  },
  {
   "cell_type": "markdown",
   "metadata": {},
   "source": [
    "#Handling Exceptions and Invalid Input\n",
    "\n",
    "\n",
    "If you’re not familiar with try...except , the basic idea is this: if you execute\n",
    "one or more statements in a try...except block and there’s an error while\n",
    "executing, your program will not crash and print a Traceback . Instead, the\n",
    "execution is transferred to the except block, where you can perform an\n",
    "appropriate operation, for instance, printing a helpful error message or\n",
    "trying something else.\n",
    "   This is how you would perform the above conversion in a try...except\n",
    "block and print a helpful error message on invalid input:\n",
    ">>> try:\n",
    "a = float(input('Enter a number: '))\n",
    "except ValueError:\n",
    "print('You entered an invalid number')"
   ]
  },
  {
   "cell_type": "code",
   "execution_count": 20,
   "metadata": {},
   "outputs": [
    {
     "name": "stdout",
     "output_type": "stream",
     "text": [
      "enter a numberds\n",
      "you entered an invalid number\n"
     ]
    }
   ],
   "source": [
    "try:\n",
    "    a - float(input('enter a number'))\n",
    "except ValueError:\n",
    "    print('you entered an invalid number')"
   ]
  },
  {
   "cell_type": "code",
   "execution_count": 21,
   "metadata": {},
   "outputs": [
    {
     "data": {
      "text/plain": [
       "True"
      ]
     },
     "execution_count": 21,
     "metadata": {},
     "output_type": "execute_result"
    }
   ],
   "source": [
    "#checkin the factors\n",
    "def is_factor(a,b):\n",
    "    if b%a == 0:\n",
    "        return True\n",
    "    else:\n",
    "        return False\n",
    "    \n",
    "is_factor(4,1024)"
   ]
  },
  {
   "cell_type": "markdown",
   "metadata": {},
   "source": [
    "## The format() method\n"
   ]
  },
  {
   "cell_type": "markdown",
   "metadata": {},
   "source": [
    "The format() method lets you plug in labels and set it up so that they get\n",
    "printed out in a nice, readable string with extra formatting around it. For\n",
    "example, if I had the names of all the fruits I bought at the grocery store\n",
    "with separate labels created for each and wanted to print them out to make\n",
    "a coherent sentence, I could use the format() method as follows:\n",
    ">>> item1 = 'apples'\n",
    ">>> item2 = 'bananas'\n",
    ">>> item3 = 'grapes'\n",
    ">>> print('At the grocery store, I bought some {0} and {1} and {2}'.format(item1, item2, item3))\n",
    "At the grocery store, I bought some apples and bananas and grapes"
   ]
  },
  {
   "cell_type": "code",
   "execution_count": 3,
   "metadata": {},
   "outputs": [
    {
     "name": "stdout",
     "output_type": "stream",
     "text": [
      "I have a table and a Chair\n"
     ]
    }
   ],
   "source": [
    "a = 'table'\n",
    "b = 'Chair'\n",
    "print('I have a {0} and a {1}'.format(a,b))"
   ]
  },
  {
   "cell_type": "code",
   "execution_count": null,
   "metadata": {},
   "outputs": [],
   "source": []
  }
 ],
 "metadata": {
  "kernelspec": {
   "display_name": "Python 3",
   "language": "python",
   "name": "python3"
  },
  "language_info": {
   "codemirror_mode": {
    "name": "ipython",
    "version": 3
   },
   "file_extension": ".py",
   "mimetype": "text/x-python",
   "name": "python",
   "nbconvert_exporter": "python",
   "pygments_lexer": "ipython3",
   "version": "3.8.3"
  }
 },
 "nbformat": 4,
 "nbformat_minor": 4
}
